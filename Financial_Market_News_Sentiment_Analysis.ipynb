{
  "nbformat": 4,
  "nbformat_minor": 0,
  "metadata": {
    "colab": {
      "name": "Financial_Market_News_Sentiment_Analysis.ipynb",
      "provenance": [],
      "collapsed_sections": [],
      "include_colab_link": true
    },
    "kernelspec": {
      "name": "python3",
      "display_name": "Python 3"
    },
    "language_info": {
      "name": "python"
    }
  },
  "cells": [
    {
      "cell_type": "markdown",
      "metadata": {
        "id": "view-in-github",
        "colab_type": "text"
      },
      "source": [
        "<a href=\"https://colab.research.google.com/github/Avinash505/AIandMachinlearning/blob/main/Financial_Market_News_Sentiment_Analysis.ipynb\" target=\"_parent\"><img src=\"https://colab.research.google.com/assets/colab-badge.svg\" alt=\"Open In Colab\"/></a>"
      ]
    },
    {
      "cell_type": "markdown",
      "source": [
        "# Import libraries"
      ],
      "metadata": {
        "id": "PpuyvlND9ale"
      }
    },
    {
      "cell_type": "code",
      "source": [
        "import pandas as pd\n"
      ],
      "metadata": {
        "id": "u-5fy0TX9e3t"
      },
      "execution_count": null,
      "outputs": []
    },
    {
      "cell_type": "code",
      "source": [
        "import numpy as np\n"
      ],
      "metadata": {
        "id": "afQPKcE4IJrp"
      },
      "execution_count": null,
      "outputs": []
    },
    {
      "cell_type": "markdown",
      "source": [
        "# Import DataSet\n",
        "\n"
      ],
      "metadata": {
        "id": "qTYXy5bMIT3X"
      }
    },
    {
      "cell_type": "code",
      "source": [
        "df=pd.read_csv(r\"https://github.com/ybifoundation/Dataset/raw/main/Financial%20Market%20News.csv\" , encoding='\"ISO-8859-1\"')\n"
      ],
      "metadata": {
        "id": "rv8BgBH9IRwP"
      },
      "execution_count": null,
      "outputs": []
    },
    {
      "cell_type": "code",
      "source": [
        "df.head()\n"
      ],
      "metadata": {
        "colab": {
          "base_uri": "https://localhost:8080/",
          "height": 768
        },
        "id": "m04B5Rn-IYhj",
        "outputId": "b2b86f6f-f963-463a-b10b-7da28d66d8d2"
      },
      "execution_count": null,
      "outputs": [
        {
          "output_type": "execute_result",
          "data": {
            "text/plain": [
              "         Date  Label                                             News 1  \\\n",
              "0  01-01-2010      0           McIlroy's men catch cold from Gudjonsson   \n",
              "1  02-01-2010      0               Warning from history points to crash   \n",
              "2  03-01-2010      0      Comment: Why Israel's peaceniks feel betrayed   \n",
              "3  04-01-2010      1             £750,000-a-goal Weah aims parting shot   \n",
              "4  05-01-2010      1  Leeds arrive in Turkey to the silence of the fans   \n",
              "\n",
              "                                       News 2  \\\n",
              "0                       Obituary: Brian Walsh   \n",
              "1              Investors flee to dollar haven   \n",
              "2  Court deals blow to seizure of drug assets   \n",
              "3            Newcastle pay for Fletcher years   \n",
              "4     One woman's vision offers loan lifeline   \n",
              "\n",
              "                                            News 3  \\\n",
              "0       Workplace blues leave employers in the red   \n",
              "1                      Banks and tobacco in favour   \n",
              "2                       An ideal target for spooks   \n",
              "3  Brown sent to the stands for Scotland qualifier   \n",
              "4          Working Lives: How world leaders worked   \n",
              "\n",
              "                                        News 4  \\\n",
              "0                     Classical review: Rattle   \n",
              "1                        Review: Llama Farmers   \n",
              "2  World steps between two sides intent on war   \n",
              "3         Tourists wary of breaking new ground   \n",
              "4           Working Lives: Tricks of the trade   \n",
              "\n",
              "                                              News 5  \\\n",
              "0                     Dance review: Merce Cunningham   \n",
              "1                       War jitters lead to sell-off   \n",
              "2                       What the region's papers say   \n",
              "3              Canary Wharf climbs into the FTSE 100   \n",
              "4  Working Lives: six-hour days, long lunches and...   \n",
              "\n",
              "                                         News 6  \\\n",
              "0  Genetic tests to be used in setting premiums   \n",
              "1                    Your not-so-secret history   \n",
              "2           Comment: Fear and rage in Palestine   \n",
              "3                           Review: Bill Bailey   \n",
              "4                        Pop review: We Love UK   \n",
              "\n",
              "                                          News 7  \\\n",
              "0                        Opera review: La Bohème   \n",
              "1                  Review: The Northern Sinfonia   \n",
              "2  Poverty and resentment fuels Palestinian fury   \n",
              "3                              Review: Classical   \n",
              "4               World music review: Marisa Monte   \n",
              "\n",
              "                                        News 8  ...  \\\n",
              "0                   Pop review: Britney Spears  ...   \n",
              "1                             Review: Hysteria  ...   \n",
              "2  Republican feud fear as dissident is killed  ...   \n",
              "3              Review: New Contemporaries 2000  ...   \n",
              "4             Art review:  Hollingsworth/Heyer  ...   \n",
              "\n",
              "                                News 16                              News 17  \\\n",
              "0                 Finland 0 - 0 England                   Healy a marked man   \n",
              "1  Why Wenger will stick to his Gunners  Out of luck England hit rock bottom   \n",
              "2             FTSE goes upwardly mobile             At this price?  BP Amoco   \n",
              "3         More cash on way for counties      Cairns carries Kiwis to victory   \n",
              "4          Duisenberg in double trouble           Pru to cut pension charges   \n",
              "\n",
              "                                             News 18  \\\n",
              "0                     Happy birthday Harpers & Queen   \n",
              "1                         Wilkinson out of his depth   \n",
              "2                                            Go fish   \n",
              "3  Year of Blanchflower's flourish when Spurs sto...   \n",
              "4                            Art review: Paul Graham   \n",
              "\n",
              "                                             News 19  \\\n",
              "0  Win unlimited access to the Raindance film fes...   \n",
              "1                   Kinsella sparks Irish power play   \n",
              "2         Bosnian Serb blows himself up to evade law   \n",
              "3      New direct approach brings only pay-per-blues   \n",
              "4               Shearer shot sparks Boro humiliation   \n",
              "\n",
              "                                             News 20  \\\n",
              "0  Labour pledges £800m to bridge north-south divide   \n",
              "1                    Brown banished as Scots rebound   \n",
              "2                       Orange float delayed to 2001   \n",
              "3                           Third Division  round-up   \n",
              "4  Ridsdale's lingering fears as Leeds revisit Tu...   \n",
              "\n",
              "                                             News 21  \\\n",
              "0       Wales: Lib-Lab pact firm despite resignation   \n",
              "1                   Battling Wales cling to lifeline   \n",
              "2  Angry factory workers root out fear, favours a...   \n",
              "3                          Second Division  round-up   \n",
              "4            Champions League: Rangers v Galatasaray   \n",
              "\n",
              "                              News 22  \\\n",
              "0                        Donald Dewar   \n",
              "1   Ehiogu close to sealing Boro move   \n",
              "2  Smith defied advice on dome payout   \n",
              "3            First Division  round-up   \n",
              "4   Champions League: Lazio v Arsenal   \n",
              "\n",
              "                                             News 23  \\\n",
              "0  Regenerating homes  regenerates well-being in ...   \n",
              "1                                 Man-to-man marking   \n",
              "2                        Xerox takes the axe to jobs   \n",
              "3                McLean ends his career with a punch   \n",
              "4                                Lazio 1 - 1 Arsenal   \n",
              "\n",
              "                        News 24  \\\n",
              "0   Win £100 worth of underwear   \n",
              "1                   Match stats   \n",
              "2  Comment: Refugees in Britain   \n",
              "3     Heskey grabs triple crown   \n",
              "4           England in Pakistan   \n",
              "\n",
              "                                             News 25  \n",
              "0                             TV guide: Random views  \n",
              "1  French referee at centre of storm is no strang...  \n",
              "2              Maverick who sparked the new intifada  \n",
              "3                   Weah on his way as City march on  \n",
              "4               England given olive-branch reception  \n",
              "\n",
              "[5 rows x 27 columns]"
            ],
            "text/html": [
              "\n",
              "  <div id=\"df-c3b68188-3a67-4bbe-ad31-6ea831862840\">\n",
              "    <div class=\"colab-df-container\">\n",
              "      <div>\n",
              "<style scoped>\n",
              "    .dataframe tbody tr th:only-of-type {\n",
              "        vertical-align: middle;\n",
              "    }\n",
              "\n",
              "    .dataframe tbody tr th {\n",
              "        vertical-align: top;\n",
              "    }\n",
              "\n",
              "    .dataframe thead th {\n",
              "        text-align: right;\n",
              "    }\n",
              "</style>\n",
              "<table border=\"1\" class=\"dataframe\">\n",
              "  <thead>\n",
              "    <tr style=\"text-align: right;\">\n",
              "      <th></th>\n",
              "      <th>Date</th>\n",
              "      <th>Label</th>\n",
              "      <th>News 1</th>\n",
              "      <th>News 2</th>\n",
              "      <th>News 3</th>\n",
              "      <th>News 4</th>\n",
              "      <th>News 5</th>\n",
              "      <th>News 6</th>\n",
              "      <th>News 7</th>\n",
              "      <th>News 8</th>\n",
              "      <th>...</th>\n",
              "      <th>News 16</th>\n",
              "      <th>News 17</th>\n",
              "      <th>News 18</th>\n",
              "      <th>News 19</th>\n",
              "      <th>News 20</th>\n",
              "      <th>News 21</th>\n",
              "      <th>News 22</th>\n",
              "      <th>News 23</th>\n",
              "      <th>News 24</th>\n",
              "      <th>News 25</th>\n",
              "    </tr>\n",
              "  </thead>\n",
              "  <tbody>\n",
              "    <tr>\n",
              "      <th>0</th>\n",
              "      <td>01-01-2010</td>\n",
              "      <td>0</td>\n",
              "      <td>McIlroy's men catch cold from Gudjonsson</td>\n",
              "      <td>Obituary: Brian Walsh</td>\n",
              "      <td>Workplace blues leave employers in the red</td>\n",
              "      <td>Classical review: Rattle</td>\n",
              "      <td>Dance review: Merce Cunningham</td>\n",
              "      <td>Genetic tests to be used in setting premiums</td>\n",
              "      <td>Opera review: La Bohème</td>\n",
              "      <td>Pop review: Britney Spears</td>\n",
              "      <td>...</td>\n",
              "      <td>Finland 0 - 0 England</td>\n",
              "      <td>Healy a marked man</td>\n",
              "      <td>Happy birthday Harpers &amp; Queen</td>\n",
              "      <td>Win unlimited access to the Raindance film fes...</td>\n",
              "      <td>Labour pledges £800m to bridge north-south divide</td>\n",
              "      <td>Wales: Lib-Lab pact firm despite resignation</td>\n",
              "      <td>Donald Dewar</td>\n",
              "      <td>Regenerating homes  regenerates well-being in ...</td>\n",
              "      <td>Win £100 worth of underwear</td>\n",
              "      <td>TV guide: Random views</td>\n",
              "    </tr>\n",
              "    <tr>\n",
              "      <th>1</th>\n",
              "      <td>02-01-2010</td>\n",
              "      <td>0</td>\n",
              "      <td>Warning from history points to crash</td>\n",
              "      <td>Investors flee to dollar haven</td>\n",
              "      <td>Banks and tobacco in favour</td>\n",
              "      <td>Review: Llama Farmers</td>\n",
              "      <td>War jitters lead to sell-off</td>\n",
              "      <td>Your not-so-secret history</td>\n",
              "      <td>Review: The Northern Sinfonia</td>\n",
              "      <td>Review: Hysteria</td>\n",
              "      <td>...</td>\n",
              "      <td>Why Wenger will stick to his Gunners</td>\n",
              "      <td>Out of luck England hit rock bottom</td>\n",
              "      <td>Wilkinson out of his depth</td>\n",
              "      <td>Kinsella sparks Irish power play</td>\n",
              "      <td>Brown banished as Scots rebound</td>\n",
              "      <td>Battling Wales cling to lifeline</td>\n",
              "      <td>Ehiogu close to sealing Boro move</td>\n",
              "      <td>Man-to-man marking</td>\n",
              "      <td>Match stats</td>\n",
              "      <td>French referee at centre of storm is no strang...</td>\n",
              "    </tr>\n",
              "    <tr>\n",
              "      <th>2</th>\n",
              "      <td>03-01-2010</td>\n",
              "      <td>0</td>\n",
              "      <td>Comment: Why Israel's peaceniks feel betrayed</td>\n",
              "      <td>Court deals blow to seizure of drug assets</td>\n",
              "      <td>An ideal target for spooks</td>\n",
              "      <td>World steps between two sides intent on war</td>\n",
              "      <td>What the region's papers say</td>\n",
              "      <td>Comment: Fear and rage in Palestine</td>\n",
              "      <td>Poverty and resentment fuels Palestinian fury</td>\n",
              "      <td>Republican feud fear as dissident is killed</td>\n",
              "      <td>...</td>\n",
              "      <td>FTSE goes upwardly mobile</td>\n",
              "      <td>At this price?  BP Amoco</td>\n",
              "      <td>Go fish</td>\n",
              "      <td>Bosnian Serb blows himself up to evade law</td>\n",
              "      <td>Orange float delayed to 2001</td>\n",
              "      <td>Angry factory workers root out fear, favours a...</td>\n",
              "      <td>Smith defied advice on dome payout</td>\n",
              "      <td>Xerox takes the axe to jobs</td>\n",
              "      <td>Comment: Refugees in Britain</td>\n",
              "      <td>Maverick who sparked the new intifada</td>\n",
              "    </tr>\n",
              "    <tr>\n",
              "      <th>3</th>\n",
              "      <td>04-01-2010</td>\n",
              "      <td>1</td>\n",
              "      <td>£750,000-a-goal Weah aims parting shot</td>\n",
              "      <td>Newcastle pay for Fletcher years</td>\n",
              "      <td>Brown sent to the stands for Scotland qualifier</td>\n",
              "      <td>Tourists wary of breaking new ground</td>\n",
              "      <td>Canary Wharf climbs into the FTSE 100</td>\n",
              "      <td>Review: Bill Bailey</td>\n",
              "      <td>Review: Classical</td>\n",
              "      <td>Review: New Contemporaries 2000</td>\n",
              "      <td>...</td>\n",
              "      <td>More cash on way for counties</td>\n",
              "      <td>Cairns carries Kiwis to victory</td>\n",
              "      <td>Year of Blanchflower's flourish when Spurs sto...</td>\n",
              "      <td>New direct approach brings only pay-per-blues</td>\n",
              "      <td>Third Division  round-up</td>\n",
              "      <td>Second Division  round-up</td>\n",
              "      <td>First Division  round-up</td>\n",
              "      <td>McLean ends his career with a punch</td>\n",
              "      <td>Heskey grabs triple crown</td>\n",
              "      <td>Weah on his way as City march on</td>\n",
              "    </tr>\n",
              "    <tr>\n",
              "      <th>4</th>\n",
              "      <td>05-01-2010</td>\n",
              "      <td>1</td>\n",
              "      <td>Leeds arrive in Turkey to the silence of the fans</td>\n",
              "      <td>One woman's vision offers loan lifeline</td>\n",
              "      <td>Working Lives: How world leaders worked</td>\n",
              "      <td>Working Lives: Tricks of the trade</td>\n",
              "      <td>Working Lives: six-hour days, long lunches and...</td>\n",
              "      <td>Pop review: We Love UK</td>\n",
              "      <td>World music review: Marisa Monte</td>\n",
              "      <td>Art review:  Hollingsworth/Heyer</td>\n",
              "      <td>...</td>\n",
              "      <td>Duisenberg in double trouble</td>\n",
              "      <td>Pru to cut pension charges</td>\n",
              "      <td>Art review: Paul Graham</td>\n",
              "      <td>Shearer shot sparks Boro humiliation</td>\n",
              "      <td>Ridsdale's lingering fears as Leeds revisit Tu...</td>\n",
              "      <td>Champions League: Rangers v Galatasaray</td>\n",
              "      <td>Champions League: Lazio v Arsenal</td>\n",
              "      <td>Lazio 1 - 1 Arsenal</td>\n",
              "      <td>England in Pakistan</td>\n",
              "      <td>England given olive-branch reception</td>\n",
              "    </tr>\n",
              "  </tbody>\n",
              "</table>\n",
              "<p>5 rows × 27 columns</p>\n",
              "</div>\n",
              "      <button class=\"colab-df-convert\" onclick=\"convertToInteractive('df-c3b68188-3a67-4bbe-ad31-6ea831862840')\"\n",
              "              title=\"Convert this dataframe to an interactive table.\"\n",
              "              style=\"display:none;\">\n",
              "        \n",
              "  <svg xmlns=\"http://www.w3.org/2000/svg\" height=\"24px\"viewBox=\"0 0 24 24\"\n",
              "       width=\"24px\">\n",
              "    <path d=\"M0 0h24v24H0V0z\" fill=\"none\"/>\n",
              "    <path d=\"M18.56 5.44l.94 2.06.94-2.06 2.06-.94-2.06-.94-.94-2.06-.94 2.06-2.06.94zm-11 1L8.5 8.5l.94-2.06 2.06-.94-2.06-.94L8.5 2.5l-.94 2.06-2.06.94zm10 10l.94 2.06.94-2.06 2.06-.94-2.06-.94-.94-2.06-.94 2.06-2.06.94z\"/><path d=\"M17.41 7.96l-1.37-1.37c-.4-.4-.92-.59-1.43-.59-.52 0-1.04.2-1.43.59L10.3 9.45l-7.72 7.72c-.78.78-.78 2.05 0 2.83L4 21.41c.39.39.9.59 1.41.59.51 0 1.02-.2 1.41-.59l7.78-7.78 2.81-2.81c.8-.78.8-2.07 0-2.86zM5.41 20L4 18.59l7.72-7.72 1.47 1.35L5.41 20z\"/>\n",
              "  </svg>\n",
              "      </button>\n",
              "      \n",
              "  <style>\n",
              "    .colab-df-container {\n",
              "      display:flex;\n",
              "      flex-wrap:wrap;\n",
              "      gap: 12px;\n",
              "    }\n",
              "\n",
              "    .colab-df-convert {\n",
              "      background-color: #E8F0FE;\n",
              "      border: none;\n",
              "      border-radius: 50%;\n",
              "      cursor: pointer;\n",
              "      display: none;\n",
              "      fill: #1967D2;\n",
              "      height: 32px;\n",
              "      padding: 0 0 0 0;\n",
              "      width: 32px;\n",
              "    }\n",
              "\n",
              "    .colab-df-convert:hover {\n",
              "      background-color: #E2EBFA;\n",
              "      box-shadow: 0px 1px 2px rgba(60, 64, 67, 0.3), 0px 1px 3px 1px rgba(60, 64, 67, 0.15);\n",
              "      fill: #174EA6;\n",
              "    }\n",
              "\n",
              "    [theme=dark] .colab-df-convert {\n",
              "      background-color: #3B4455;\n",
              "      fill: #D2E3FC;\n",
              "    }\n",
              "\n",
              "    [theme=dark] .colab-df-convert:hover {\n",
              "      background-color: #434B5C;\n",
              "      box-shadow: 0px 1px 3px 1px rgba(0, 0, 0, 0.15);\n",
              "      filter: drop-shadow(0px 1px 2px rgba(0, 0, 0, 0.3));\n",
              "      fill: #FFFFFF;\n",
              "    }\n",
              "  </style>\n",
              "\n",
              "      <script>\n",
              "        const buttonEl =\n",
              "          document.querySelector('#df-c3b68188-3a67-4bbe-ad31-6ea831862840 button.colab-df-convert');\n",
              "        buttonEl.style.display =\n",
              "          google.colab.kernel.accessAllowed ? 'block' : 'none';\n",
              "\n",
              "        async function convertToInteractive(key) {\n",
              "          const element = document.querySelector('#df-c3b68188-3a67-4bbe-ad31-6ea831862840');\n",
              "          const dataTable =\n",
              "            await google.colab.kernel.invokeFunction('convertToInteractive',\n",
              "                                                     [key], {});\n",
              "          if (!dataTable) return;\n",
              "\n",
              "          const docLinkHtml = 'Like what you see? Visit the ' +\n",
              "            '<a target=\"_blank\" href=https://colab.research.google.com/notebooks/data_table.ipynb>data table notebook</a>'\n",
              "            + ' to learn more about interactive tables.';\n",
              "          element.innerHTML = '';\n",
              "          dataTable['output_type'] = 'display_data';\n",
              "          await google.colab.output.renderOutput(dataTable, element);\n",
              "          const docLink = document.createElement('div');\n",
              "          docLink.innerHTML = docLinkHtml;\n",
              "          element.appendChild(docLink);\n",
              "        }\n",
              "      </script>\n",
              "    </div>\n",
              "  </div>\n",
              "  "
            ]
          },
          "metadata": {},
          "execution_count": 4
        }
      ]
    },
    {
      "cell_type": "code",
      "source": [
        "df.info()\n"
      ],
      "metadata": {
        "colab": {
          "base_uri": "https://localhost:8080/"
        },
        "id": "37aCz1tWIY_n",
        "outputId": "f300d297-9b0e-4880-fd44-9847b57786bb"
      },
      "execution_count": null,
      "outputs": [
        {
          "output_type": "stream",
          "name": "stdout",
          "text": [
            "<class 'pandas.core.frame.DataFrame'>\n",
            "RangeIndex: 4101 entries, 0 to 4100\n",
            "Data columns (total 27 columns):\n",
            " #   Column   Non-Null Count  Dtype \n",
            "---  ------   --------------  ----- \n",
            " 0   Date     4101 non-null   object\n",
            " 1   Label    4101 non-null   int64 \n",
            " 2   News 1   4101 non-null   object\n",
            " 3   News 2   4101 non-null   object\n",
            " 4   News 3   4101 non-null   object\n",
            " 5   News 4   4101 non-null   object\n",
            " 6   News 5   4101 non-null   object\n",
            " 7   News 6   4101 non-null   object\n",
            " 8   News 7   4101 non-null   object\n",
            " 9   News 8   4101 non-null   object\n",
            " 10  News 9   4101 non-null   object\n",
            " 11  News 10  4101 non-null   object\n",
            " 12  News 11  4101 non-null   object\n",
            " 13  News 12  4101 non-null   object\n",
            " 14  News 13  4101 non-null   object\n",
            " 15  News 14  4101 non-null   object\n",
            " 16  News 15  4101 non-null   object\n",
            " 17  News 16  4101 non-null   object\n",
            " 18  News 17  4101 non-null   object\n",
            " 19  News 18  4101 non-null   object\n",
            " 20  News 19  4101 non-null   object\n",
            " 21  News 20  4101 non-null   object\n",
            " 22  News 21  4101 non-null   object\n",
            " 23  News 22  4101 non-null   object\n",
            " 24  News 23  4100 non-null   object\n",
            " 25  News 24  4098 non-null   object\n",
            " 26  News 25  4098 non-null   object\n",
            "dtypes: int64(1), object(26)\n",
            "memory usage: 865.2+ KB\n"
          ]
        }
      ]
    },
    {
      "cell_type": "code",
      "source": [
        "df.shape\n"
      ],
      "metadata": {
        "colab": {
          "base_uri": "https://localhost:8080/"
        },
        "id": "uiq_rwZ4Ib2X",
        "outputId": "4330ff9b-de53-4249-9197-386d3590601f"
      },
      "execution_count": null,
      "outputs": [
        {
          "output_type": "execute_result",
          "data": {
            "text/plain": [
              "(4101, 27)"
            ]
          },
          "metadata": {},
          "execution_count": 6
        }
      ]
    },
    {
      "cell_type": "code",
      "source": [
        "df.columns\n"
      ],
      "metadata": {
        "colab": {
          "base_uri": "https://localhost:8080/"
        },
        "id": "tDNS8I-0IfLi",
        "outputId": "cfa004c1-35a9-415b-b52c-92f2255bfc0e"
      },
      "execution_count": null,
      "outputs": [
        {
          "output_type": "execute_result",
          "data": {
            "text/plain": [
              "Index(['Date', 'Label', 'News 1', 'News 2', 'News 3', 'News 4', 'News 5',\n",
              "       'News 6', 'News 7', 'News 8', 'News 9', 'News 10', 'News 11', 'News 12',\n",
              "       'News 13', 'News 14', 'News 15', 'News 16', 'News 17', 'News 18',\n",
              "       'News 19', 'News 20', 'News 21', 'News 22', 'News 23', 'News 24',\n",
              "       'News 25'],\n",
              "      dtype='object')"
            ]
          },
          "metadata": {},
          "execution_count": 7
        }
      ]
    },
    {
      "cell_type": "markdown",
      "source": [
        "# Get Feature Slection\n",
        "\n"
      ],
      "metadata": {
        "id": "nOMV8UkLImHk"
      }
    },
    {
      "cell_type": "code",
      "source": [
        "' '.join(str(x) for x in df.iloc[1,2:27])\n"
      ],
      "metadata": {
        "colab": {
          "base_uri": "https://localhost:8080/",
          "height": 192
        },
        "id": "n2mduTriIg1y",
        "outputId": "cc5ebc4e-48b4-4626-c617-40222384895b"
      },
      "execution_count": null,
      "outputs": [
        {
          "output_type": "execute_result",
          "data": {
            "text/plain": [
              "\"Warning from history points to crash Investors flee to dollar haven Banks and tobacco in favour Review: Llama Farmers War jitters lead to sell-off Your not-so-secret history Review: The Northern Sinfonia Review: Hysteria Review: The Guardsman Opera: The Marriage of Figaro Review: The Turk in Italy Deutsche spells out its plans for diversification Traders' panic sends oil prices skyward TV sport chief leaves home over romance Leader: Hi-tech twitch Why Wenger will stick to his Gunners Out of luck England hit rock bottom Wilkinson out of his depth Kinsella sparks Irish power play Brown banished as Scots rebound Battling Wales cling to lifeline Ehiogu close to sealing Boro move Man-to-man marking Match stats French referee at centre of storm is no stranger to controversy\""
            ],
            "application/vnd.google.colaboratory.intrinsic+json": {
              "type": "string"
            }
          },
          "metadata": {},
          "execution_count": 8
        }
      ]
    },
    {
      "cell_type": "code",
      "source": [
        "df.index\n"
      ],
      "metadata": {
        "colab": {
          "base_uri": "https://localhost:8080/"
        },
        "id": "kL611LV_Iq07",
        "outputId": "2e073bf5-f3ec-4337-ceec-cb721961c988"
      },
      "execution_count": null,
      "outputs": [
        {
          "output_type": "execute_result",
          "data": {
            "text/plain": [
              "RangeIndex(start=0, stop=4101, step=1)"
            ]
          },
          "metadata": {},
          "execution_count": 9
        }
      ]
    },
    {
      "cell_type": "code",
      "source": [
        "len(df.index)\n"
      ],
      "metadata": {
        "colab": {
          "base_uri": "https://localhost:8080/"
        },
        "id": "8SaXmbelIuEC",
        "outputId": "470a660b-2acc-4e2e-fbbb-1635fc80b0e1"
      },
      "execution_count": null,
      "outputs": [
        {
          "output_type": "execute_result",
          "data": {
            "text/plain": [
              "4101"
            ]
          },
          "metadata": {},
          "execution_count": 10
        }
      ]
    },
    {
      "cell_type": "code",
      "source": [
        "news = []\n",
        "for row in  range (0 , len(df.index)):\n",
        "  news.append(' '.join(str(x) for x in df.iloc[row,2:27]))\n"
      ],
      "metadata": {
        "id": "Wq2mIfP7Iv4F"
      },
      "execution_count": null,
      "outputs": []
    },
    {
      "cell_type": "code",
      "source": [
        "type(news)\n"
      ],
      "metadata": {
        "colab": {
          "base_uri": "https://localhost:8080/"
        },
        "id": "NOr1yX2bIyAN",
        "outputId": "db5bba62-f611-489c-8973-fa67d6bba4fc"
      },
      "execution_count": null,
      "outputs": [
        {
          "output_type": "execute_result",
          "data": {
            "text/plain": [
              "list"
            ]
          },
          "metadata": {},
          "execution_count": 12
        }
      ]
    },
    {
      "cell_type": "code",
      "source": [
        "news[0]\n"
      ],
      "metadata": {
        "colab": {
          "base_uri": "https://localhost:8080/",
          "height": 192
        },
        "id": "G9d1jXdaI0RK",
        "outputId": "93cd0e3a-4e97-4186-e4e2-8d5ed2a76a35"
      },
      "execution_count": null,
      "outputs": [
        {
          "output_type": "execute_result",
          "data": {
            "text/plain": [
              "\"McIlroy's men catch cold from Gudjonsson Obituary: Brian Walsh Workplace blues leave employers in the red Classical review: Rattle Dance review: Merce Cunningham Genetic tests to be used in setting premiums Opera review: La Bohème Pop review: Britney Spears Theatre review: The Circle Wales face a fraught night Under-21  round-up Smith off to blot his copybook Finns taking the mickey Praise wasted as Brown studies injury options Ireland wary of minnows Finland 0 - 0 England Healy a marked man Happy birthday Harpers & Queen Win unlimited access to the Raindance film festival Labour pledges £800m to bridge north-south divide Wales: Lib-Lab pact firm despite resignation Donald Dewar Regenerating homes  regenerates well-being in people Win £100 worth of underwear TV guide: Random views\""
            ],
            "application/vnd.google.colaboratory.intrinsic+json": {
              "type": "string"
            }
          },
          "metadata": {},
          "execution_count": 13
        }
      ]
    },
    {
      "cell_type": "code",
      "source": [
        "X = news\n",
        "type(X)\n"
      ],
      "metadata": {
        "colab": {
          "base_uri": "https://localhost:8080/"
        },
        "id": "Kb0rjfQVI2Jk",
        "outputId": "40c85c29-389b-4329-ce62-28ab09aec5bd"
      },
      "execution_count": null,
      "outputs": [
        {
          "output_type": "execute_result",
          "data": {
            "text/plain": [
              "list"
            ]
          },
          "metadata": {},
          "execution_count": 14
        }
      ]
    },
    {
      "cell_type": "markdown",
      "source": [
        "# Get Feature Text Conversion To Bag of Words\n",
        "\n"
      ],
      "metadata": {
        "id": "pxlh7cOQI-yI"
      }
    },
    {
      "cell_type": "code",
      "source": [
        "from sklearn.feature_extraction.text import CountVectorizer\n",
        "cv = CountVectorizer(lowercase = True , ngram_range=(1,1))\n",
        "X = cv.fit_transform(X)\n",
        "X.shape\n"
      ],
      "metadata": {
        "colab": {
          "base_uri": "https://localhost:8080/"
        },
        "id": "jT3zPLSSI64H",
        "outputId": "86cb7420-8bc3-498e-cbad-3965ed96399e"
      },
      "execution_count": null,
      "outputs": [
        {
          "output_type": "execute_result",
          "data": {
            "text/plain": [
              "(4101, 48527)"
            ]
          },
          "metadata": {},
          "execution_count": 15
        }
      ]
    },
    {
      "cell_type": "code",
      "source": [
        "y = df['Label']\n",
        "y.shape\n"
      ],
      "metadata": {
        "colab": {
          "base_uri": "https://localhost:8080/"
        },
        "id": "lDX-VuFHJB3y",
        "outputId": "626d8d03-0482-4295-9c92-3faf204469b3"
      },
      "execution_count": null,
      "outputs": [
        {
          "output_type": "execute_result",
          "data": {
            "text/plain": [
              "(4101,)"
            ]
          },
          "metadata": {},
          "execution_count": 16
        }
      ]
    },
    {
      "cell_type": "markdown",
      "source": [
        "# Get Train Test split\n",
        "\n"
      ],
      "metadata": {
        "id": "mT-8iWT5JIYJ"
      }
    },
    {
      "cell_type": "code",
      "source": [
        "from sklearn.model_selection import train_test_split\n",
        "X_train, X_test, y_train, y_test = train_test_split(X, y, test_size= 0.3, stratify = y , random_state = 12529)\n",
        "from sklearn.ensemble import RandomForestClassifier\n",
        "rf = RandomForestClassifier(n_estimators = 200)\n",
        "rf.fit(X_train,y_train)\n"
      ],
      "metadata": {
        "colab": {
          "base_uri": "https://localhost:8080/"
        },
        "id": "eAYNoiGDJFq8",
        "outputId": "e1f46086-c3e9-4f54-9a85-e0f71be1e823"
      },
      "execution_count": null,
      "outputs": [
        {
          "output_type": "execute_result",
          "data": {
            "text/plain": [
              "RandomForestClassifier(n_estimators=200)"
            ]
          },
          "metadata": {},
          "execution_count": 17
        }
      ]
    },
    {
      "cell_type": "code",
      "source": [
        "y_pred = rf.predict(X_test)\n",
        "from sklearn.metrics import confusion_matrix, classification_report,accuracy_score\n",
        "confusion_matrix(y_test, y_pred)\n"
      ],
      "metadata": {
        "colab": {
          "base_uri": "https://localhost:8080/"
        },
        "id": "c8Zw88woJMfM",
        "outputId": "d04a448e-f76b-4c49-d3aa-493005dbf2f5"
      },
      "execution_count": null,
      "outputs": [
        {
          "output_type": "execute_result",
          "data": {
            "text/plain": [
              "array([[125, 456],\n",
              "       [175, 475]])"
            ]
          },
          "metadata": {},
          "execution_count": 18
        }
      ]
    },
    {
      "cell_type": "code",
      "source": [
        "print(classification_report(y_test, y_pred))\n"
      ],
      "metadata": {
        "colab": {
          "base_uri": "https://localhost:8080/"
        },
        "id": "235YZnsSJPVo",
        "outputId": "97245520-a10e-44f4-9555-3d2261b3a6a4"
      },
      "execution_count": null,
      "outputs": [
        {
          "output_type": "stream",
          "name": "stdout",
          "text": [
            "              precision    recall  f1-score   support\n",
            "\n",
            "           0       0.42      0.22      0.28       581\n",
            "           1       0.51      0.73      0.60       650\n",
            "\n",
            "    accuracy                           0.49      1231\n",
            "   macro avg       0.46      0.47      0.44      1231\n",
            "weighted avg       0.47      0.49      0.45      1231\n",
            "\n"
          ]
        }
      ]
    },
    {
      "cell_type": "markdown",
      "source": [
        "THAT'S ALL"
      ],
      "metadata": {
        "id": "KvPxpv8vJUp6"
      }
    }
  ]
}